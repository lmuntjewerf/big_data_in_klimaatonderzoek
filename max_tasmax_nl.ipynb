{
 "cells": [
  {
   "cell_type": "code",
   "execution_count": 1,
   "metadata": {},
   "outputs": [],
   "source": [
    "import xarray as xr\n",
    "import matplotlib.pyplot as plt\n",
    "import numpy as np"
   ]
  },
  {
   "cell_type": "code",
   "execution_count": 2,
   "metadata": {},
   "outputs": [],
   "source": [
    "local_code_folder='/home/nklm/Px_heatperiods/annual_heat_periods/'\n",
    "local_perm_folder='/perm/nklm/Px_heatperiods/lproc/'\n",
    "local_scrh_folder='/scratch/nklm/Px_heatperiods/'\n",
    "diri=f'{local_scrh_folder}/preproc/'\n",
    "diro=f'{local_perm_folder}/preproc/annual_heat_periods_txtfiles/'"
   ]
  },
  {
   "cell_type": "code",
   "execution_count": 3,
   "metadata": {},
   "outputs": [],
   "source": [
    "ERA5_vals = [28.068115, 29.764832, 28.524139, 28.514038, 33.989044, 30.726807 ]\n",
    "ERA5_y = [0, 0, 0, 0, 0, 0]"
   ]
  },
  {
   "cell_type": "code",
   "execution_count": 13,
   "metadata": {},
   "outputs": [
    {
     "name": "stdout",
     "output_type": "stream",
     "text": [
      "Gemiddelde van PD is: 30.413313369750977\n",
      "Gemiddelde van 2K is: 33.25596096038819\n"
     ]
    },
    {
     "data": {
      "image/png": "[encoded data removed]",
      "text/plain": [
       "<Figure size 640x480 with 1 Axes>"
      ]
     },
     "metadata": {},
     "output_type": "display_data"
    }
   ],
   "source": [
    "country='NL'\n",
    "lat = 52.37403\n",
    "lon = 4.88969\n",
    "\n",
    "vars = ['tas'] \n",
    "\n",
    "\n",
    "for var in vars:\n",
    "    if var == 'pr':\n",
    "        scale_factor = 60*60*24\n",
    "        subtract = 0\n",
    "        units = 'mm/dag'\n",
    "    elif var == 'tas':\n",
    "        scale_factor = 1\n",
    "        subtract = 273.15\n",
    "        units = 'graden C'            \n",
    "    else: \n",
    "        scale_factor = 1\n",
    "        subtract = 0\n",
    "    \n",
    "    for timeslice in ['PD', '2K']:\n",
    "        if timeslice == 'PD':\n",
    "            letter = 'h'\n",
    "            color = 'royalblue'\n",
    "        elif timeslice == '2K':\n",
    "            letter = 's'\n",
    "            color = 'firebrick'\n",
    "\n",
    "        diri_ext = f'/scratch/nklm/LENTIS/{timeslice}/3hr/{var}/NL/' \n",
    "\n",
    "        \n",
    "        ensemble_maxima = []\n",
    "\n",
    "        for i in range(1,16+1):\n",
    "            for j in range(0,9+1):\n",
    "                ens_member=f'{letter}{i:02}{j}'\n",
    "\n",
    "\n",
    "                fili=(f'NL_{var}_{ens_member}.nc')\n",
    "                ds=xr.open_dataset(diri_ext+fili) #.sel(lat=lat,lon=lon, method='nearest')\n",
    "\n",
    "                df = ds.to_dataframe()\n",
    "                ds.close()\n",
    "\n",
    "                df.reset_index(inplace=True)\n",
    "                df['year'] = df.time.map(lambda x: x.year)\n",
    "                df_max = df.loc[df.groupby([\"year\"])[var].idxmax()]\n",
    "\n",
    "                member_maxima = df_max[var] * scale_factor - subtract\n",
    "                ensemble_maxima.append(member_maxima)\n",
    "\n",
    "        flat_list = [item for sublist in ensemble_maxima for item in sublist]\n",
    "        print(f'Gemiddelde van {timeslice} is: {np.mean(flat_list)}')\n",
    "\n",
    "        plt.hist(np.round(flat_list,1), color=color,  alpha=0.7,density=True, bins=16, label=timeslice)\n",
    "\n",
    "    plt.scatter(ERA5_vals,ERA5_y,color='k')\n",
    "    plt.xlabel(units)\n",
    "    # plt.legend()\n",
    "    # plt.show()\n",
    "    plt.savefig(f'figuren/{var}_NL.png', dpi=200, bbox_inches='tight')\n"
   ]
  },
  {
   "cell_type": "code",
   "execution_count": 12,
   "metadata": {},
   "outputs": [
    {
     "data": {
      "text/plain": [
       "2.8426475906372097"
      ]
     },
     "execution_count": 12,
     "metadata": {},
     "output_type": "execute_result"
    }
   ],
   "source": [
    "33.25596096038819 - 30.413313369750977"
   ]
  },
  {
   "cell_type": "code",
   "execution_count": null,
   "metadata": {},
   "outputs": [],
   "source": []
  }
 ],
 "metadata": {
  "kernelspec": {
   "display_name": "base",
   "language": "python",
   "name": "base"
  },
  "language_info": {
   "codemirror_mode": {
    "name": "ipython",
    "version": 3
   },
   "file_extension": ".py",
   "mimetype": "text/x-python",
   "name": "python",
   "nbconvert_exporter": "python",
   "pygments_lexer": "ipython3",
   "version": "3.10.6"
  },
  "orig_nbformat": 4,
  "vscode": {
   "interpreter": {
    "hash": "a31ad865cc8b4086b1ed6e62d02c87f13fc264e3282e1db241b6ee32ad924a35"
   }
  }
 },
 "nbformat": 4,
 "nbformat_minor": 2
}
