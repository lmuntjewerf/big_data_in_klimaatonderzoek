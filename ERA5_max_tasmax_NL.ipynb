{
 "cells": [
  {
   "cell_type": "code",
   "execution_count": 16,
   "metadata": {},
   "outputs": [],
   "source": [
    "import xarray as xr\n",
    "import pandas as pd"
   ]
  },
  {
   "cell_type": "code",
   "execution_count": 2,
   "metadata": {},
   "outputs": [],
   "source": [
    "local_scrh_folder='/net/pc200021/nobackup_1/users/muntjewe/'\n",
    "diri=f'{local_scrh_folder}/LENTIS/lproc/ERA/'\n"
   ]
  },
  {
   "cell_type": "code",
   "execution_count": 65,
   "metadata": {},
   "outputs": [],
   "source": [
    "country='NL'\n",
    "lat = 52.37403\n",
    "lon = 4.88969\n",
    "\n",
    "vars = ['tmax'] \n",
    "years = [1951, 1952, 1953, 2021, 2022, 2023]"
   ]
  },
  {
   "cell_type": "code",
   "execution_count": 66,
   "metadata": {},
   "outputs": [],
   "source": [
    "for var in vars:\n",
    "    if var == 'tp':\n",
    "        scale_factor = 60*60*24\n",
    "        subtract = 0\n",
    "        units = 'mm/dag'\n",
    "    elif var == 'tmax':\n",
    "        scale_factor = 1\n",
    "        subtract = 273.15\n",
    "        units = 'graden C'            \n",
    "    else: \n",
    "        scale_factor = 1\n",
    "        subtract = 0\n",
    "\n",
    "    ERA5_maxima = []\n",
    "    ERA5_year = []\n",
    "\n",
    "    for year in years:\n",
    "        fili = f'era5_tmax_ECE3grid_{year}.nc'\n",
    "        ds=xr.open_dataset(diri+fili).sel(lat=lat,lon=lon, method='nearest')\n",
    "\n",
    "        df = ds.to_dataframe()\n",
    "        ds.close()\n",
    "\n",
    "        df.reset_index(inplace=True)\n",
    "        df['year'] = df.time.map(lambda x: x.year)\n",
    "        df_max = df.loc[df.groupby([\"year\"])[var].idxmax()]\n",
    "\n",
    "        year_max = df_max[var] * scale_factor - subtract\n",
    "        ERA5_maxima.append(year_max.values[0])\n",
    "        ERA5_year.append(df['year'][0])"
   ]
  },
  {
   "cell_type": "code",
   "execution_count": 67,
   "metadata": {},
   "outputs": [],
   "source": [
    "df_ERA = pd.DataFrame([ERA5_year,ERA5_maxima]).T\n",
    "df_ERA.columns = ['year', 'maximum day temperature of the year']\n"
   ]
  },
  {
   "cell_type": "code",
   "execution_count": 68,
   "metadata": {},
   "outputs": [
    {
     "data": {
      "text/html": [
       "<div>\n",
       "<style scoped>\n",
       "    .dataframe tbody tr th:only-of-type {\n",
       "        vertical-align: middle;\n",
       "    }\n",
       "\n",
       "    .dataframe tbody tr th {\n",
       "        vertical-align: top;\n",
       "    }\n",
       "\n",
       "    .dataframe thead th {\n",
       "        text-align: right;\n",
       "    }\n",
       "</style>\n",
       "<table border=\"1\" class=\"dataframe\">\n",
       "  <thead>\n",
       "    <tr style=\"text-align: right;\">\n",
       "      <th></th>\n",
       "      <th>year</th>\n",
       "      <th>maximum day temperature of the year</th>\n",
       "    </tr>\n",
       "  </thead>\n",
       "  <tbody>\n",
       "    <tr>\n",
       "      <th>0</th>\n",
       "      <td>1951.0</td>\n",
       "      <td>28.068115</td>\n",
       "    </tr>\n",
       "    <tr>\n",
       "      <th>1</th>\n",
       "      <td>1952.0</td>\n",
       "      <td>29.764832</td>\n",
       "    </tr>\n",
       "    <tr>\n",
       "      <th>2</th>\n",
       "      <td>1953.0</td>\n",
       "      <td>28.524139</td>\n",
       "    </tr>\n",
       "    <tr>\n",
       "      <th>3</th>\n",
       "      <td>2021.0</td>\n",
       "      <td>28.514038</td>\n",
       "    </tr>\n",
       "    <tr>\n",
       "      <th>4</th>\n",
       "      <td>2022.0</td>\n",
       "      <td>33.989044</td>\n",
       "    </tr>\n",
       "    <tr>\n",
       "      <th>5</th>\n",
       "      <td>2023.0</td>\n",
       "      <td>30.726807</td>\n",
       "    </tr>\n",
       "  </tbody>\n",
       "</table>\n",
       "</div>"
      ],
      "text/plain": [
       "     year  maximum day temperature of the year\n",
       "0  1951.0                            28.068115\n",
       "1  1952.0                            29.764832\n",
       "2  1953.0                            28.524139\n",
       "3  2021.0                            28.514038\n",
       "4  2022.0                            33.989044\n",
       "5  2023.0                            30.726807"
      ]
     },
     "execution_count": 68,
     "metadata": {},
     "output_type": "execute_result"
    }
   ],
   "source": [
    "df_ERA"
   ]
  },
  {
   "cell_type": "code",
   "execution_count": 69,
   "metadata": {},
   "outputs": [
    {
     "data": {
      "text/plain": [
       "'\\\\begin{tabular}{lrr}\\n\\\\toprule\\n{} &    year &  maximum day temperature of the year \\\\\\\\\\n\\\\midrule\\n0 &  1951.0 &                            28.068115 \\\\\\\\\\n1 &  1952.0 &                            29.764832 \\\\\\\\\\n2 &  1953.0 &                            28.524139 \\\\\\\\\\n3 &  2021.0 &                            28.514038 \\\\\\\\\\n4 &  2022.0 &                            33.989044 \\\\\\\\\\n5 &  2023.0 &                            30.726807 \\\\\\\\\\n\\\\bottomrule\\n\\\\end{tabular}\\n'"
      ]
     },
     "execution_count": 69,
     "metadata": {},
     "output_type": "execute_result"
    }
   ],
   "source": [
    "df_ERA.to_latex()"
   ]
  },
  {
   "cell_type": "code",
   "execution_count": null,
   "metadata": {},
   "outputs": [],
   "source": []
  }
 ],
 "metadata": {
  "kernelspec": {
   "display_name": "Python 3.10.11 64-bit",
   "language": "python",
   "name": "python3"
  },
  "language_info": {
   "codemirror_mode": {
    "name": "ipython",
    "version": 3
   },
   "file_extension": ".py",
   "mimetype": "text/x-python",
   "name": "python",
   "nbconvert_exporter": "python",
   "pygments_lexer": "ipython3",
   "version": "3.10.11"
  },
  "orig_nbformat": 4,
  "vscode": {
   "interpreter": {
    "hash": "e7370f93d1d0cde622a1f8e1c04877d8463912d04d973331ad4851f04de6915a"
   }
  }
 },
 "nbformat": 4,
 "nbformat_minor": 2
}
